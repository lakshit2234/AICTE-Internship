{
 "cells": [
  {
   "cell_type": "code",
   "execution_count": 8,
   "id": "dacb1d2e-8c9a-4729-a41d-26d9c57b1ede",
   "metadata": {},
   "outputs": [],
   "source": [
    "import cv2\n",
    "import mediapipe as mp"
   ]
  },
  {
   "cell_type": "code",
   "execution_count": 9,
   "id": "bbc65bd9-1455-4ba1-bc7e-16087bd6716e",
   "metadata": {},
   "outputs": [],
   "source": [
    "mp_pose = mp.solutions.pose\n",
    "pose = mp_pose.Pose(static_image_mode = True , min_detection_confidence = 0.5)\n",
    "mp_drawing = mp.solutions.drawing_utils"
   ]
  },
  {
   "cell_type": "code",
   "execution_count": 10,
   "id": "a735fe2b-0626-4fc8-be27-ca6ac0d28a08",
   "metadata": {},
   "outputs": [],
   "source": [
    "image_path = \"pose-best-case-image-png-format.png\"\n",
    "image = cv2.imread(image_path)\n",
    "image_rgb = cv2.cvtColor(image, cv2.COLOR_BGR2RGB)"
   ]
  },
  {
   "cell_type": "code",
   "execution_count": 11,
   "id": "2109d6ce-3edc-4002-82f6-b111bc78e90a",
   "metadata": {},
   "outputs": [],
   "source": [
    "results = pose.process(image_rgb)"
   ]
  },
  {
   "cell_type": "code",
   "execution_count": 12,
   "id": "b92217f6-0b5c-4d15-b75f-6cc35cf85e69",
   "metadata": {},
   "outputs": [
    {
     "name": "stdout",
     "output_type": "stream",
     "text": [
      "Pose landmarks detected\n"
     ]
    }
   ],
   "source": [
    "if results.pose_landmarks:\n",
    "    print(\"Pose landmarks detected\")"
   ]
  },
  {
   "cell_type": "code",
   "execution_count": 13,
   "id": "f1f2d15d-b6c6-4e0e-8a54-3f2a1b69d77c",
   "metadata": {},
   "outputs": [
    {
     "name": "stdout",
     "output_type": "stream",
     "text": [
      "Landmark 0: (x:0.49980008602142334 , y:0.0953957736492157 , z:-0.6456026434898376) \n",
      "Landmark 1: (x:0.5203389525413513 , y:0.07562434673309326 , z:-0.6043422818183899) \n",
      "Landmark 2: (x:0.5300078392028809 , y:0.07540386915206909 , z:-0.604579508304596) \n",
      "Landmark 3: (x:0.5408167243003845 , y:0.07516607642173767 , z:-0.6046741008758545) \n",
      "Landmark 4: (x:0.4829912781715393 , y:0.07550624758005142 , z:-0.5969538688659668) \n",
      "Landmark 5: (x:0.4708704948425293 , y:0.07524791359901428 , z:-0.5970249772071838) \n",
      "Landmark 6: (x:0.46064409613609314 , y:0.07560411095619202 , z:-0.5969457030296326) \n",
      "Landmark 7: (x:0.5584479570388794 , y:0.08317279070615768 , z:-0.3114658296108246) \n",
      "Landmark 8: (x:0.4447435438632965 , y:0.08402344584465027 , z:-0.2825625538825989) \n",
      "Landmark 9: (x:0.5216237902641296 , y:0.11558175086975098 , z:-0.5337731838226318) \n",
      "Landmark 10: (x:0.4787268042564392 , y:0.11716055870056152 , z:-0.5248571634292603) \n",
      "Landmark 11: (x:0.673453152179718 , y:0.20920220017433167 , z:-0.13140273094177246) \n",
      "Landmark 12: (x:0.35791444778442383 , y:0.20985138416290283 , z:-0.06242932751774788) \n",
      "Landmark 13: (x:0.7139450907707214 , y:0.36012521386146545 , z:-0.15811091661453247) \n",
      "Landmark 14: (x:0.3105314373970032 , y:0.36038482189178467 , z:-0.09636064618825912) \n",
      "Landmark 15: (x:0.869514524936676 , y:0.37282344698905945 , z:-0.6630955934524536) \n",
      "Landmark 16: (x:0.1467403769493103 , y:0.376169353723526 , z:-0.6719540953636169) \n",
      "Landmark 17: (x:0.9236226081848145 , y:0.37333062291145325 , z:-0.7753348350524902) \n",
      "Landmark 18: (x:0.08900228142738342 , y:0.3822582960128784 , z:-0.7830054759979248) \n",
      "Landmark 19: (x:0.9295069575309753 , y:0.35458752512931824 , z:-0.8855792284011841) \n",
      "Landmark 20: (x:0.07947537302970886 , y:0.36514464020729065 , z:-0.8876105546951294) \n",
      "Landmark 21: (x:0.9061223268508911 , y:0.35262447595596313 , z:-0.7238012552261353) \n",
      "Landmark 22: (x:0.1029055118560791 , y:0.3628697395324707 , z:-0.7342780232429504) \n",
      "Landmark 23: (x:0.6156172752380371 , y:0.5047283172607422 , z:-0.005468960851430893) \n",
      "Landmark 24: (x:0.43913599848747253 , y:0.5079371333122253 , z:0.0055310726165771484) \n",
      "Landmark 25: (x:0.6369549036026001 , y:0.7304509878158569 , z:-0.043568968772888184) \n",
      "Landmark 26: (x:0.4129657745361328 , y:0.7328593730926514 , z:-0.023193104192614555) \n",
      "Landmark 27: (x:0.6416078805923462 , y:0.9094090461730957 , z:0.4458578824996948) \n",
      "Landmark 28: (x:0.39800572395324707 , y:0.9162798523902893 , z:0.4109939634799957) \n",
      "Landmark 29: (x:0.6130789518356323 , y:0.9287331104278564 , z:0.4726245701313019) \n",
      "Landmark 30: (x:0.42189666628837585 , y:0.9329731464385986 , z:0.4332040846347809) \n",
      "Landmark 31: (x:0.6797575354576111 , y:0.982469916343689 , z:0.12025631964206696) \n",
      "Landmark 32: (x:0.37632977962493896 , y:0.9869166612625122 , z:0.06469171494245529) \n"
     ]
    }
   ],
   "source": [
    "for idx , landmark in enumerate(results.pose_landmarks.landmark):\n",
    "    print(f\"Landmark {idx}: (x:{landmark.x} , y:{landmark.y} , z:{landmark.z}) \")\n",
    "for landmark in results.pose_landmarks.landmark:\n",
    "    h , w , c = image.shape\n",
    "    cx,cy = int(landmark.x * w), int(landmark.y * h)\n",
    "    cv2.circle(image, (cx,cy), 5, (0,255,0),-1)\n",
    "    annotated_image = image.copy()\n",
    "    mp_drawing.draw_landmarks(annotated_image , results.pose_landmarks, mp_pose.POSE_CONNECTIONS)"
   ]
  },
  {
   "cell_type": "code",
   "execution_count": null,
   "id": "977d9383-26b2-4f94-ba04-d50a3bdb8514",
   "metadata": {},
   "outputs": [],
   "source": [
    "cv2.imshow(\"Pose Landmarks\", image)\n",
    "cv2.imshow(\"Pose Drawing\", annotated_image)\n",
    "cv2.waitKey(0)\n",
    "cv2.destroyAllWindows()\n",
    "pose.close()"
   ]
  },
  {
   "cell_type": "code",
   "execution_count": null,
   "id": "2a41e0d0-e4e7-4f98-974c-48102ee655e4",
   "metadata": {},
   "outputs": [],
   "source": []
  }
 ],
 "metadata": {
  "kernelspec": {
   "display_name": "Python 3 (ipykernel)",
   "language": "python",
   "name": "python3"
  },
  "language_info": {
   "codemirror_mode": {
    "name": "ipython",
    "version": 3
   },
   "file_extension": ".py",
   "mimetype": "text/x-python",
   "name": "python",
   "nbconvert_exporter": "python",
   "pygments_lexer": "ipython3",
   "version": "3.12.7"
  }
 },
 "nbformat": 4,
 "nbformat_minor": 5
}
